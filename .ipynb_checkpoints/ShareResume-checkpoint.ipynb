{
 "cells": [
  {
   "cell_type": "markdown",
   "metadata": {},
   "source": [
    "## Note:\n",
    "None of this is intended to work if you are not me-- it relies on files based on my local machine so as to hide security credentials. I am providing this code as a template to those interested. If you are not interested in implementing your own customization, feel free to reach out to david@davidtschneider.com and we can discuss rates regarding a custom solution."
   ]
  },
  {
   "cell_type": "code",
   "execution_count": null,
   "metadata": {},
   "outputs": [],
   "source": [
    "import shutil, os, time, pyautogui, subprocess, datetime, boto3\n",
    "from selenium import webdriver\n",
    "from selenium.webdriver.common.keys import Keys"
   ]
  },
  {
   "cell_type": "code",
   "execution_count": null,
   "metadata": {},
   "outputs": [],
   "source": [
    "os.chdir('/Users/kutch/resume/')\n",
    "currentdate = datetime.datetime.today().strftime('%Y-%m-%d')"
   ]
  },
  {
   "cell_type": "markdown",
   "metadata": {},
   "source": [
    "### Convert previously saved Word file to PDF"
   ]
  },
  {
   "cell_type": "code",
   "execution_count": null,
   "metadata": {},
   "outputs": [],
   "source": [
    "def save_as_pdf():\n",
    "    with open('word_commands.txt') as f:\n",
    "        txt = f.read()\n",
    "    instructions = txt.split(';')\n",
    "    for instruction in instructions:\n",
    "        exec(instruction)"
   ]
  },
  {
   "cell_type": "code",
   "execution_count": null,
   "metadata": {},
   "outputs": [],
   "source": [
    "save_as_pdf()"
   ]
  },
  {
   "cell_type": "code",
   "execution_count": null,
   "metadata": {},
   "outputs": [],
   "source": [
    "#word default save location is the downloads folder. could probably fix this if i want\n",
    "shutil.copyfile('/Users/kutch/Downloads/DavidSchneiderResume.pdf', 'DavidSchneiderResume.pdf')"
   ]
  },
  {
   "cell_type": "code",
   "execution_count": null,
   "metadata": {},
   "outputs": [],
   "source": [
    "#tasks:\n",
    "##upload to s3\n",
    "##update personal site\n",
    "##update linkedin"
   ]
  },
  {
   "cell_type": "markdown",
   "metadata": {},
   "source": [
    "### Upload PDF file to CDNs"
   ]
  },
  {
   "cell_type": "markdown",
   "metadata": {},
   "source": [
    "#### GitHub"
   ]
  },
  {
   "cell_type": "code",
   "execution_count": null,
   "metadata": {},
   "outputs": [],
   "source": [
    "subprocess.run(f\"git add -A; git commit -m 'updated on {currentdate}'; git push;\", shell=True)"
   ]
  },
  {
   "cell_type": "markdown",
   "metadata": {},
   "source": [
    "#### s3"
   ]
  },
  {
   "cell_type": "code",
   "execution_count": null,
   "metadata": {},
   "outputs": [],
   "source": [
    "#credentials/client creation\n",
    "with open('/Users/kutch/Desktop/Projects/AWS/creds.txt') as creds:\n",
    "    txt = [line.strip() for line in creds.readlines()]\n",
    "    a_key, sa_key = txt[0], txt[1]\n",
    "s3 = boto3.resource('s3', aws_access_key_id = a_key, aws_secret_access_key = sa_key)\n",
    "client = boto3.client('s3', aws_access_key_id = a_key, aws_secret_access_key = sa_key)\n",
    "#upload\n",
    "client.upload_file('DavidSchneiderResume.pdf', 'davidschneiderprojects', 'DavidSchneiderResume.pdf', ExtraArgs={'ACL':'public-read'})"
   ]
  }
 ],
 "metadata": {
  "kernelspec": {
   "display_name": "Python 3",
   "language": "python",
   "name": "python3"
  },
  "language_info": {
   "codemirror_mode": {
    "name": "ipython",
    "version": 3
   },
   "file_extension": ".py",
   "mimetype": "text/x-python",
   "name": "python",
   "nbconvert_exporter": "python",
   "pygments_lexer": "ipython3",
   "version": "3.7.1"
  }
 },
 "nbformat": 4,
 "nbformat_minor": 2
}
