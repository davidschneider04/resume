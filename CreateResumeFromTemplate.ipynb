{
 "cells": [
  {
   "cell_type": "markdown",
   "metadata": {},
   "source": [
    "# Resume Creator\n",
    "## User Requirements: A plaintext resume in JSON format, see example:\n",
    "#### https://github.com/davidschneider04/resume/raw/master/plaintext_resume.json"
   ]
  },
  {
   "cell_type": "markdown",
   "metadata": {},
   "source": [
    "#### Imports"
   ]
  },
  {
   "cell_type": "code",
   "execution_count": 1,
   "metadata": {},
   "outputs": [],
   "source": [
    "import docx, math, json, urllib, re"
   ]
  },
  {
   "cell_type": "markdown",
   "metadata": {},
   "source": [
    "#### Load a JSON with plaintext resume data"
   ]
  },
  {
   "cell_type": "code",
   "execution_count": 2,
   "metadata": {},
   "outputs": [],
   "source": [
    "ptexturl = 'https://github.com/davidschneider04/resume/raw/master/plaintext_resume.json'\n",
    "ptext = json.load(urllib.request.urlopen(ptexturl))"
   ]
  },
  {
   "cell_type": "markdown",
   "metadata": {},
   "source": [
    "## Given the information in the plaintext resume, populate a Word doc with proper styling"
   ]
  },
  {
   "cell_type": "markdown",
   "metadata": {},
   "source": [
    "#### Custom Styles Used:\n",
    "<ul>\n",
    "    <li>ResumeSectionHeader</li>\n",
    "    <li>ResumeName</li>\n",
    "    <li>ResumeContactLine</li>\n",
    "    <li>ResumeSummary</li>\n",
    "    <li>ResumeCompanyHeader</li>\n",
    "    <li>ResumeCompanyDescription</li>\n",
    "    <li>ResumeAccomplishment2</li>\n",
    "    <li>ResumePositionDescription</li>\n",
    "    <li>ResumeWordJumble</li>\n",
    "</ul>"
   ]
  },
  {
   "cell_type": "markdown",
   "metadata": {},
   "source": [
    "#### Create the Word doc"
   ]
  },
  {
   "cell_type": "code",
   "execution_count": 3,
   "metadata": {},
   "outputs": [],
   "source": [
    "#this document holds all the styles\n",
    "doc = docx.Document('BlankTemplate.docx')\n",
    "\n",
    "def create_section_header(name):\n",
    "    section_header_style = doc.styles['ResumeSectionHeader']\n",
    "    section_header_text = name\n",
    "    section_header_p = doc.add_paragraph(section_header_text)\n",
    "    section_header_p.style = section_header_style\n",
    "    \n",
    "def delete_paragraph(paragraph):\n",
    "    p = paragraph._element\n",
    "    p.getparent().remove(p)\n",
    "    p._p = p._element = None"
   ]
  },
  {
   "cell_type": "markdown",
   "metadata": {},
   "source": [
    "#### Name Info"
   ]
  },
  {
   "cell_type": "code",
   "execution_count": 4,
   "metadata": {},
   "outputs": [],
   "source": [
    "name_text = ptext['name']\n",
    "name_style = doc.styles['ResumeName']\n",
    "name_p = doc.add_paragraph(name_text)\n",
    "name_p.style = name_style"
   ]
  },
  {
   "cell_type": "markdown",
   "metadata": {},
   "source": [
    "#### Delete the blank paragraph added by default"
   ]
  },
  {
   "cell_type": "code",
   "execution_count": 5,
   "metadata": {},
   "outputs": [],
   "source": [
    "delete_paragraph(doc.paragraphs[0])"
   ]
  },
  {
   "cell_type": "markdown",
   "metadata": {},
   "source": [
    "#### Contact Info"
   ]
  },
  {
   "cell_type": "code",
   "execution_count": 6,
   "metadata": {},
   "outputs": [],
   "source": [
    "contact_text = ''\n",
    "for entry, val in ptext['contact'].items():\n",
    "    contact_text += val\n",
    "    contact_text += '\\t' if entry != 'website' else ''\n",
    "contact_style = doc.styles['ResumeContactLine']\n",
    "contact_p = doc.add_paragraph(contact_text)\n",
    "contact_p.style = contact_style"
   ]
  },
  {
   "cell_type": "markdown",
   "metadata": {},
   "source": [
    "#### Summary Info"
   ]
  },
  {
   "cell_type": "code",
   "execution_count": 7,
   "metadata": {},
   "outputs": [],
   "source": [
    "create_section_header(\"Summary\")\n",
    "summary_text = ptext['summary']\n",
    "summary_style = doc.styles['ResumeSummary']\n",
    "summary_p = doc.add_paragraph(summary_text)\n",
    "summary_p.style = summary_style"
   ]
  },
  {
   "cell_type": "markdown",
   "metadata": {},
   "source": [
    "#### Work Experience Info"
   ]
  },
  {
   "cell_type": "code",
   "execution_count": 8,
   "metadata": {},
   "outputs": [],
   "source": [
    "create_section_header(\"Professional Experience\")\n",
    "jobtitle_style = doc.styles['ResumeCompanyHeader']\n",
    "jobdescription_style = doc.styles['ResumeCompanyDescription']\n",
    "jobaccomplishment_style = doc.styles['ResumeAccomplishment2']\n",
    "for job in ptext['experience']:\n",
    "    jobheader_p = doc.add_paragraph('')\n",
    "    jobheader_p.add_run(job['title']).bold = True\n",
    "    jobheader_p.add_run(\" \\u2014 \" + job['company'] + '\\t' \n",
    "                        + job['start'] + \" \\u2014 \" + job['end'])\n",
    "    jobheader_p.style = jobtitle_style\n",
    "    jobdescription_text = job['company_description']\n",
    "    jobdescription_p = doc.add_paragraph(jobdescription_text)\n",
    "    jobdescription_p.style = jobdescription_style\n",
    "    for accomplishment in job['achievements']:\n",
    "        jobaccomplishment_text = accomplishment\n",
    "        jobaccomplishment_p = doc.add_paragraph(jobaccomplishment_text)\n",
    "        jobaccomplishment_p.style = jobaccomplishment_style"
   ]
  },
  {
   "cell_type": "markdown",
   "metadata": {},
   "source": [
    "#### Education / Certification Info"
   ]
  },
  {
   "cell_type": "code",
   "execution_count": 9,
   "metadata": {},
   "outputs": [],
   "source": [
    "create_section_header(\"Education / Certifications\")\n",
    "education_style = doc.styles['ResumeCompanyHeader']\n",
    "for degree in ptext['education']:\n",
    "    education_p = doc.add_paragraph('')\n",
    "    education_p.add_run(degree['name']).bold = True\n",
    "    education_p.add_run('\\t' + degree['earndate'])\n",
    "    education_p.style = education_style\n",
    "    if degree['description']:\n",
    "        #kind of extra\n",
    "        collegedegree = re.compile('[BM]\\.?[SA]\\.?\\s.+(?=,)')\n",
    "        if re.search(collegedegree, degree['description']) and re.search('minor', degree['description'], flags=re.IGNORECASE):\n",
    "            educationdescription_p = doc.add_paragraph('')\n",
    "            collegedegreetext = re.findall(collegedegree, degree['description'])[0]\n",
    "            educationdescription_p.add_run(collegedegreetext).bold = True\n",
    "            othertext = degree['description'][degree['description'].index(','):]\n",
    "            educationdescription_p.add_run(othertext)\n",
    "        else:\n",
    "            educationdescription_text = degree['description']\n",
    "            educationdescription_p = doc.add_paragraph(educationdescription_text)\n",
    "        educationdescription_p.style = doc.styles['ResumePositionDescription']"
   ]
  },
  {
   "cell_type": "markdown",
   "metadata": {},
   "source": [
    "#### Skills Info"
   ]
  },
  {
   "cell_type": "code",
   "execution_count": 10,
   "metadata": {},
   "outputs": [],
   "source": [
    "create_section_header(\"Skills\")\n",
    "skills_style = doc.styles[\"ResumeWordJumble\"]\n",
    "tblcols = 4\n",
    "tblrows = math.ceil(len(ptext['skills'])/tblcols)\n",
    "skilltable = doc.add_table(rows=tblrows, cols=tblcols)\n",
    "skilltable.style = doc.styles['ResumeSkillTable']\n",
    "#skilltable.style.paragraph_format.left_indent = docx.shared.Inches(0.38)\n",
    "i, j = 0, 0\n",
    "for skill in ptext['skills']:\n",
    "    skilltable.rows[i].cells[j].text = skill\n",
    "    skilltable.rows[i].cells[j].paragraphs[0].style = skills_style\n",
    "    j+=1\n",
    "    if j%(tblcols) == 0:\n",
    "        j=0\n",
    "        i+=1"
   ]
  },
  {
   "cell_type": "markdown",
   "metadata": {},
   "source": [
    "#### Save out doc"
   ]
  },
  {
   "cell_type": "code",
   "execution_count": 11,
   "metadata": {},
   "outputs": [],
   "source": [
    "doc.save('DavidSchneiderResume.docx')"
   ]
  }
 ],
 "metadata": {
  "kernelspec": {
   "display_name": "Python 3",
   "language": "python",
   "name": "python3"
  },
  "language_info": {
   "codemirror_mode": {
    "name": "ipython",
    "version": 3
   },
   "file_extension": ".py",
   "mimetype": "text/x-python",
   "name": "python",
   "nbconvert_exporter": "python",
   "pygments_lexer": "ipython3",
   "version": "3.7.1"
  }
 },
 "nbformat": 4,
 "nbformat_minor": 2
}
